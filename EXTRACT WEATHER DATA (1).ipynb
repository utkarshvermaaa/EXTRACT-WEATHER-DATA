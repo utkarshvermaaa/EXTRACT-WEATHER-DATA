{
 "cells": [
  {
   "cell_type": "code",
   "execution_count": 2,
   "id": "2096044d",
   "metadata": {},
   "outputs": [],
   "source": [
    "#getting weather data from google weather."
   ]
  },
  {
   "cell_type": "code",
   "execution_count": 14,
   "id": "76500968",
   "metadata": {},
   "outputs": [
    {
     "name": "stdout",
     "output_type": "stream",
     "text": [
      "ENTER CITY NAME : thane\n",
      "TEMPERATURE IS 33°C\n",
      "TIME : Friday 3:56 pm\n",
      "SKY DESCRIPTION: Smoke\n"
     ]
    }
   ],
   "source": [
    "#import\n",
    "import requests\n",
    "from bs4 import BeautifulSoup\n",
    "\n",
    "#taking input from user\n",
    "city = input(\"ENTER CITY NAME : \")\n",
    "\n",
    "#creating url \n",
    "url = \"https://www.google.com/search?q=\"+\"weather\"+city\n",
    "\n",
    "#request\n",
    "html=requests.get(url).content\n",
    "\n",
    "#getting raw data\n",
    "soup=BeautifulSoup(html,\"html.parser\")\n",
    "\n",
    "#getting the temperature\n",
    "temp = soup.find(\"div\", attrs={\"class\":\"BNeawe iBp4i AP7Wnd\"}).text\n",
    "\n",
    "#getting the time and sky description\n",
    "time_skyDescription=soup.find(\"div\",attrs={\"class\":\"BNeawe tAd8D AP7Wnd\"}).text\n",
    "\n",
    "#formatting the data\n",
    "data=time_skyDescription.split(\"\\n\")\n",
    "time=data[0]\n",
    "sky=data[1]\n",
    "\n",
    "#list all div tags with class names\n",
    "listdiv = soup.findAll(\"div\",attrs={\"class\" : \"BNeawe s3v9rd AP7Wnd\"})\n",
    "\n",
    "#printing the data we need\n",
    "print(f\"TEMPERATURE IS\",temp)\n",
    "print(f\"TIME :\",time)\n",
    "print(\"SKY DESCRIPTION:\",sky)"
   ]
  },
  {
   "cell_type": "code",
   "execution_count": null,
   "id": "08dfeb7e",
   "metadata": {},
   "outputs": [],
   "source": []
  },
  {
   "cell_type": "code",
   "execution_count": null,
   "id": "b7ad3124",
   "metadata": {},
   "outputs": [],
   "source": []
  }
 ],
 "metadata": {
  "kernelspec": {
   "display_name": "Python 3 (ipykernel)",
   "language": "python",
   "name": "python3"
  },
  "language_info": {
   "codemirror_mode": {
    "name": "ipython",
    "version": 3
   },
   "file_extension": ".py",
   "mimetype": "text/x-python",
   "name": "python",
   "nbconvert_exporter": "python",
   "pygments_lexer": "ipython3",
   "version": "3.9.12"
  }
 },
 "nbformat": 4,
 "nbformat_minor": 5
}
